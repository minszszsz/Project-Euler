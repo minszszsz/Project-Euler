{
 "cells": [
  {
   "cell_type": "markdown",
   "metadata": {},
   "source": [
    "### 問1\n",
    "10未満の自然数のうち, 3 もしくは 5 の倍数になっているものは 3, 5, 6, 9 の4つがあり, これらの合計は 23 になる.\n",
    "\n",
    "同じようにして, 1000 未満の 3 か 5 の倍数になっている数字の合計を求めよ."
   ]
  },
  {
   "cell_type": "code",
   "execution_count": 1,
   "metadata": {},
   "outputs": [
    {
     "data": {
      "text/plain": [
       "233168"
      ]
     },
     "execution_count": 1,
     "metadata": {},
     "output_type": "execute_result"
    }
   ],
   "source": [
    "#numの倍数のうち、large_num以下のものの合計を返す関数を定義\n",
    "def ProductSum(num,large_num):\n",
    "    return sum([num*i for i in range(1,int((large_num-1)/num)+1)])\n",
    "\n",
    "#求める数をド・モルガンの定理を用いて計算\n",
    "ProductSum(3,1000)+ProductSum(5,1000)-ProductSum(15,1000)"
   ]
  },
  {
   "cell_type": "markdown",
   "metadata": {},
   "source": [
    "### 問2\n",
    "フィボナッチ数列の項は前の2つの項の和である. 最初の2項を 1, 2 とすれば, 最初の10項は以下の通りである.\n",
    "\n",
    "1, 2, 3, 5, 8, 13, 21, 34, 55, 89, ...\n",
    "\n",
    "数列の項の値が400万以下の, 偶数値の項の総和を求めよ."
   ]
  },
  {
   "cell_type": "code",
   "execution_count": 2,
   "metadata": {},
   "outputs": [
    {
     "name": "stdout",
     "output_type": "stream",
     "text": [
      "[2, 8, 34, 144, 610, 2584, 10946, 46368, 196418, 832040, 3524578]\n"
     ]
    },
    {
     "data": {
      "text/plain": [
       "4613732"
      ]
     },
     "execution_count": 2,
     "metadata": {},
     "output_type": "execute_result"
    }
   ],
   "source": [
    "#フィボナッチ数列のうちupper以下の偶数値をもつ項のリストを返す関数を定義\n",
    "def evenFib(upper):\n",
    "    Fib=[1,2]\n",
    "    Even=[2]\n",
    "    i=1\n",
    "    while Fib[i-1]+Fib[i]<=upper:\n",
    "        Fib.append(Fib[i-1]+Fib[i])\n",
    "        if (Fib[i-1]+Fib[i])%2==0:\n",
    "            Even.append(Fib[i-1]+Fib[i])\n",
    "        i+=1\n",
    "    return(Even)\n",
    "\n",
    "print(evenFib(4000000))\n",
    "sum(evenFib(4000000))"
   ]
  },
  {
   "cell_type": "markdown",
   "metadata": {},
   "source": [
    "### 問3\n",
    "13195 の素因数は 5, 7, 13, 29 である.\n",
    "\n",
    "600851475143 の素因数のうち最大のものを求めよ."
   ]
  },
  {
   "cell_type": "code",
   "execution_count": 3,
   "metadata": {},
   "outputs": [
    {
     "name": "stdout",
     "output_type": "stream",
     "text": [
      "[71, 839, 1471, 6857]\n"
     ]
    },
    {
     "data": {
      "text/plain": [
       "6857"
      ]
     },
     "execution_count": 3,
     "metadata": {},
     "output_type": "execute_result"
    }
   ],
   "source": [
    "#引数numの素因数のリストを返す関数を定義\n",
    "def PrimeFactors(num):\n",
    "    factor=[]\n",
    "    i=2\n",
    "    while i<=num**(1/2):\n",
    "        while num%i==0:\n",
    "            factor.append(i)\n",
    "            num=num/i\n",
    "        i=i+1\n",
    "    factor.append(int(num))\n",
    "    return(factor)\n",
    "print(PrimeFactors(600851475143))\n",
    "max(PrimeFactors(600851475143))"
   ]
  },
  {
   "cell_type": "markdown",
   "metadata": {},
   "source": [
    "### 問4\n",
    "左右どちらから読んでも同じ値になる数を回文数という. 2桁の数の積で表される回文数のうち, 最大のものは 9009 = 91 × 99 である.\n",
    "\n",
    "では, 3桁の数の積で表される回文数の最大値を求めよ."
   ]
  },
  {
   "cell_type": "code",
   "execution_count": 4,
   "metadata": {},
   "outputs": [
    {
     "name": "stdout",
     "output_type": "stream",
     "text": [
      "906609 993 913\n"
     ]
    }
   ],
   "source": [
    "#大きな回文数から条件に合うもの探索する\n",
    "for i in range(999,100,-1):\n",
    "    #回文数\n",
    "    cycle=int(str(i)+str(i)[::-1])\n",
    "    #回文数を問3で用いた関数で素因数分解し3桁x3桁で表される回文数を探索する\n",
    "    factors=PrimeFactors(cycle)\n",
    "    if len(str(max(factors)))<=3:\n",
    "        large_factor=max(factors)\n",
    "        for j in factors[-1::-1]:\n",
    "            if len(str(max(factors)*j))<=3:\n",
    "                large_factor=max(factors)*j\n",
    "        second_factor=int(cycle/large_factor)       \n",
    "        if len(str(second_factor))==3:\n",
    "               break\n",
    "print(cycle,large_factor,second_factor)"
   ]
  },
  {
   "cell_type": "markdown",
   "metadata": {},
   "source": [
    "### 問5\n",
    "2520 は 1 から 10 の数字の全ての整数で割り切れる数字であり, そのような数字の中では最小の値である.\n",
    "\n",
    "では, 1 から 20 までの整数全てで割り切れる数字の中で最小の正の数はいくらになるか."
   ]
  },
  {
   "cell_type": "code",
   "execution_count": 5,
   "metadata": {},
   "outputs": [
    {
     "name": "stdout",
     "output_type": "stream",
     "text": [
      "[4, 2, 1, 1, 1, 1, 1, 1]\n",
      "232792560\n"
     ]
    }
   ],
   "source": [
    "#20以下の素数のリスト\n",
    "Prime=[2,3,5,7,11,13,17,19]\n",
    "#素因数の指数部をカウントするリスト\n",
    "maxcount=[1 for i in range(len(Prime))]\n",
    "\n",
    "P=1\n",
    "\n",
    "#2から20まで各素数の指数をカウントし、各素数に対し最大の指数を探索\n",
    "for i in range(2,20):\n",
    "    for j in Prime:\n",
    "        count=0\n",
    "        while i%j==0:\n",
    "            count+=1\n",
    "            i=i/j\n",
    "        if count>maxcount[Prime.index(j)]:\n",
    "            maxcount[Prime.index(j)]=count\n",
    "        \n",
    "print(maxcount)\n",
    "for k in range(0,len(Prime)):\n",
    "    P=P*Prime[k]**maxcount[k]\n",
    "print(P)\n",
    "    "
   ]
  },
  {
   "cell_type": "markdown",
   "metadata": {},
   "source": [
    "### 問6\n",
    "最初の10個の自然数について, その二乗の和は,\n",
    "\n",
    "\\begin{align}\n",
    "1^2 + 2^2 + ... + 10^2 = 385\n",
    "\\end{align}\n",
    "\n",
    "最初の10個の自然数について, その和の二乗は,\n",
    "\n",
    "\\begin{align}\n",
    "(1 + 2 + ... + 10)^2 = 3025\n",
    "\\end{align}\n",
    "\n",
    "これらの数の差は 3025 - 385 = 2640 となる.\n",
    "\n",
    "同様にして, 最初の100個の自然数について二乗の和と和の二乗の差を求めよ\n"
   ]
  },
  {
   "cell_type": "code",
   "execution_count": 6,
   "metadata": {},
   "outputs": [
    {
     "data": {
      "text/plain": [
       "25164150"
      ]
     },
     "execution_count": 6,
     "metadata": {},
     "output_type": "execute_result"
    }
   ],
   "source": [
    "#(1+2+...+n)^2-(1^2+2^2+...+n^2)=2*i*j(i≠j,1≤i,j≤n)を用いて考える\n",
    "#num以下の自然数の二乗の和と和の二乗の差を返す関数を定義\n",
    "def diffSquare(num):\n",
    "    S=0\n",
    "    for i in range(1,num+1):\n",
    "        for j in range(1,i):\n",
    "            S+=2*i*j\n",
    "    return(S)\n",
    "\n",
    "diffSquare(100)"
   ]
  },
  {
   "cell_type": "markdown",
   "metadata": {},
   "source": [
    "### 問7\n",
    "素数を小さい方から6つ並べると 2, 3, 5, 7, 11, 13 であり, 6番目の素数は 13 である.\n",
    "\n",
    "10 001 番目の素数を求めよ.\n"
   ]
  },
  {
   "cell_type": "code",
   "execution_count": 7,
   "metadata": {},
   "outputs": [
    {
     "name": "stdout",
     "output_type": "stream",
     "text": [
      "104743\n"
     ]
    }
   ],
   "source": [
    "#num番目までの素数をリストを返す関数\n",
    "def PrimeList(num):\n",
    "    list=[2,3]\n",
    "    #素数候補\n",
    "    i=4\n",
    "    while len(list)<num:\n",
    "        index=0\n",
    "        while list[index]<=i**(1/2):#i^(1/2)以下のiの因数を探索\n",
    "            if i%list[index]==0:\n",
    "                i=i+1\n",
    "                break\n",
    "            elif list[index+1]>i**(1/2):#i^(1/2)以下の素数でiが割り切れなければiは素数\n",
    "                list.append(i)\n",
    "                i=i+1\n",
    "                break\n",
    "            else:\n",
    "                index=index+1\n",
    "    return list\n",
    "\n",
    "List=PrimeList(10001)\n",
    "print(List[10000])"
   ]
  },
  {
   "cell_type": "markdown",
   "metadata": {},
   "source": [
    "### 問8\n",
    "次の1000桁の数字のうち, 隣接する4つの数字の総乗の中で, 最大となる値は, 9 × 9 × 8 × 9 = 5832である.\n",
    "\n",
    "73167176531330624919225119674426574742355349194934\n",
    "96983520312774506326239578318016984801869478851843\n",
    " 85861560789112949495459501737958331952853208805511\n",
    " 12540698747158523863050715693290963295227443043557\n",
    " 66896648950445244523161731856403098711121722383113\n",
    " 62229893423380308135336276614282806444486645238749\n",
    " 30358907296290491560440772390713810515859307960866\n",
    " 70172427121883998797908792274921901699720888093776\n",
    " 65727333001053367881220235421809751254540594752243\n",
    " 52584907711670556013604839586446706324415722155397\n",
    " 53697817977846174064955149290862569321978468622482\n",
    " 83972241375657056057490261407972968652414535100474\n",
    " 82166370484403199890008895243450658541227588666881\n",
    " 16427171479924442928230863465674813919123162824586\n",
    " 17866458359124566529476545682848912883142607690042\n",
    " 24219022671055626321111109370544217506941658960408\n",
    " 07198403850962455444362981230987879927244284909188\n",
    " 84580156166097919133875499200524063689912560717606\n",
    " 05886116467109405077541002256983155200055935729725\n",
    " 71636269561882670428252483600823257530420752963450\n",
    "\n",
    "この1000桁の数字から13個の連続する数字を取り出して, それらの総乗を計算する. では、それら総乗のうち、最大となる値はいくらか."
   ]
  },
  {
   "cell_type": "code",
   "execution_count": 8,
   "metadata": {},
   "outputs": [
    {
     "name": "stdout",
     "output_type": "stream",
     "text": [
      "7316717653133\n",
      "4919225119674\n",
      "9225119674426\n",
      "2511967442657\n",
      "5119674426574\n",
      "1967442657474\n",
      "9674426574742\n",
      "5349194934969\n",
      "3491949349698\n",
      "9194934969835\n",
      "8694788518438\n",
      "4355766896648\n",
      "3557668966489\n",
      "5576689664895\n"
     ]
    },
    {
     "data": {
      "text/plain": [
       "23514624000"
      ]
     },
     "execution_count": 8,
     "metadata": {},
     "output_type": "execute_result"
    }
   ],
   "source": [
    "numbers1000=\"7316717653133062491922511967442657474235534919493496983520312774506326239578318016984801869478851843858615607891129494954595017379583319528532088055111254069874715852386305071569329096329522744304355766896648950445244523161731856403098711121722383113622298934233803081353362766142828064444866452387493035890729629049156044077239071381051585930796086670172427121883998797908792274921901699720888093776657273330010533678812202354218097512545405947522435258490771167055601360483958644670632441572215539753697817977846174064955149290862569321978468622482839722413756570560574902614079729686524145351004748216637048440319989000889524345065854122758866688116427171479924442928230863465674813919123162824586178664583591245665294765456828489128831426076900422421902267105562632111110937054421750694165896040807198403850962455444362981230987879927244284909188845801561660979191338754992005240636899125607176060588611646710940507754100225698315520005593572972571636269561882670428252483600823257530420752963450\"\n",
    "\n",
    "\n",
    "#リスト内の総乗を計算する関数を定義\n",
    "def ListProduct(list):\n",
    "    product=1\n",
    "    for i in range(len(list)):\n",
    "        product*=int(list[i])\n",
    "    return product\n",
    "\n",
    "\n",
    "#数列と連続する数字の長さを与えると最も大きな値を返す関数を定義\n",
    "def LargestProduct(numbers,length):\n",
    "    head_index=0\n",
    "    largest_product=0\n",
    "    \n",
    "    while head_index<=len(numbers)-length:\n",
    "        List=numbers[head_index:head_index+length]\n",
    "        if min(List)=='0':#リストに0が含まれていればスキップする\n",
    "            head_index+=List.index('0')+1\n",
    "        elif ListProduct(List)>largest_product:#総乗の最大値の更新\n",
    "            largest_product=ListProduct(List)\n",
    "            print(List)\n",
    "            head_index+=1\n",
    "            while numbers[head_index-1]>=numbers[head_index+length-2]:#前のリストと現在のリストを変化した数字で比較し、小さければスキップする\n",
    "                head_index+=1\n",
    "                if head_index>len(numbers)-length:\n",
    "                    break\n",
    "        else:\n",
    "            head_index+=1\n",
    "        \n",
    "    return (largest_product)\n",
    "\n",
    "LargestProduct(numbers1000,13)\n"
   ]
  },
  {
   "cell_type": "markdown",
   "metadata": {},
   "source": [
    "### 問9\n",
    "ピタゴラス数(ピタゴラスの定理を満たす自然数)とは a < b < c で以下の式を満たす数の組である.\n",
    "\n",
    "\\begin{align}\n",
    "a^2 + b^2 = c^2\n",
    "\\end{align}\n",
    "\n",
    "例えば, \\begin{align}3^2 + 4^2 = 9 + 16 = 25 = 5^2 \\end{align}である.\n",
    "\n",
    "a + b + c = 1000 となるピタゴラスの三つ組が一つだけ存在する.\n",
    "これらの積 abc を計算しなさい.\n"
   ]
  },
  {
   "cell_type": "code",
   "execution_count": 9,
   "metadata": {},
   "outputs": [
    {
     "name": "stdout",
     "output_type": "stream",
     "text": [
      "(200, 375, 425)\n",
      "31875000\n"
     ]
    }
   ],
   "source": [
    "#a^2=c^2-b^2=(c-b)(c+b)=(c-b)(1000-a)よりa^2/(1000-a)が整数となるものを探索して、b,cに関する方程式を解き代入する。\n",
    "for a in range(1,334):\n",
    "    if a**2%(1000-a)==0:\n",
    "        c=int((1000-a+a**2/(1000-a))/2)\n",
    "        b=1000-a-c\n",
    "        print((a,b,c))\n",
    "        print((a*b*c))"
   ]
  },
  {
   "cell_type": "markdown",
   "metadata": {},
   "source": [
    "### 問10\n",
    "10以下の素数の和は 2 + 3 + 5 + 7 = 17 である.\n",
    "\n",
    "200万以下の全ての素数の和を求めよ."
   ]
  },
  {
   "cell_type": "code",
   "execution_count": 10,
   "metadata": {},
   "outputs": [
    {
     "data": {
      "text/plain": [
       "142913828922"
      ]
     },
     "execution_count": 10,
     "metadata": {},
     "output_type": "execute_result"
    }
   ],
   "source": [
    "#問7で用いた関数を素数の大きさで抑えるように変更する\n",
    "def PrimeList1(num):\n",
    "    list=[2,3]\n",
    "    i=4\n",
    "    while i<=num:\n",
    "        j=0\n",
    "        while list[j]<=i**(1/2):\n",
    "            if i%list[j]==0:\n",
    "                i=i+1\n",
    "                break\n",
    "            elif list[j+1]>i**(1/2):\n",
    "                list.append(i)\n",
    "                i=i+1\n",
    "                break\n",
    "            else:\n",
    "                j=j+1\n",
    "    return list\n",
    "\n",
    "#num以下の素数の和を計算する関数。num以下のすべての数の集合から1とすべての合成数の差集合をとる\n",
    "def SumOfPrimes(num):\n",
    "    AllNumbersSet=set(range(1,num+1))\n",
    "    List=PrimeList1(num**(1/2))\n",
    "    ProductsSet=set([1])\n",
    "    for prime in List:\n",
    "        ProductsSet=ProductsSet.union(set([i*prime for i in range(prime,int(num/prime)+1)]))\n",
    "    PrimesSet=AllNumbersSet-ProductsSet\n",
    "    return sum(PrimesSet)\n",
    "SumOfPrimes(2000000)"
   ]
  }
 ],
 "metadata": {
  "kernelspec": {
   "display_name": "Python 3",
   "language": "python",
   "name": "python3"
  },
  "language_info": {
   "codemirror_mode": {
    "name": "ipython",
    "version": 3
   },
   "file_extension": ".py",
   "mimetype": "text/x-python",
   "name": "python",
   "nbconvert_exporter": "python",
   "pygments_lexer": "ipython3",
   "version": "3.6.5"
  }
 },
 "nbformat": 4,
 "nbformat_minor": 2
}
